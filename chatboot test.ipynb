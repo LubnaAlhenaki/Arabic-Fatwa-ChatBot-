{
 "cells": [
  {
   "cell_type": "code",
   "execution_count": null,
   "metadata": {},
   "outputs": [],
   "source": [
    "from platform import python_version"
   ]
  },
  {
   "cell_type": "code",
   "execution_count": null,
   "metadata": {},
   "outputs": [],
   "source": [
    "from flask import Flask, render_template,request\n",
    "from chatterbot import ChatBot\n",
    "from chatterbot.trainers import ChatterBotCorpusTrainer\n",
    "import sys\n",
    "from chatterbot.trainers import ListTrainer\n",
    "import os"
   ]
  },
  {
   "cell_type": "code",
   "execution_count": null,
   "metadata": {},
   "outputs": [],
   "source": [
    "app=Flask(__name__)\n",
    "arabic_chatbot=ChatBot(\"LubnaChatBot\",logic_adapters=['chatterbot.logic.BestMatch'])\n",
    "# eng_chatbot=ChatBot(\"LubnaChatBot\", logic_adapters=['chatterbot.logic.BestMatch'])\n",
    "#training=ChatterBotCorpusTrainer(\"english\")\n",
    "\n",
    "\n",
    "trainer = ChatterBotCorpusTrainer(arabic_chatbot)\n",
    "\n",
    "trainer.train(\n",
    "    \n",
    "    '/Users/Mony/Desktop/chatterbot-corpus/chatterbot_corpus/data/ Arabic/conversations.yml'\n",
    ")"
   ]
  },
  {
   "cell_type": "code",
   "execution_count": null,
   "metadata": {
    "scrolled": true
   },
   "outputs": [
    {
     "name": "stdout",
     "output_type": "stream",
     "text": [
      " * Serving Flask app \"__main__\" (lazy loading)\n",
      " * Environment: development\n",
      " * Debug mode: on\n"
     ]
    },
    {
     "name": "stderr",
     "output_type": "stream",
     "text": [
      " * Running on http://127.0.0.1:5000/ (Press CTRL+C to quit)\n",
      "127.0.0.1 - - [20/Nov/2019 01:27:06] \"\u001b[37mGET / HTTP/1.1\u001b[0m\" 200 -\n",
      "127.0.0.1 - - [20/Nov/2019 01:28:09] \"\u001b[37mGET /get?msg= السلام%20عليكم%20لدي%20سؤال HTTP/1.1\u001b[0m\" 200 -\n",
      "127.0.0.1 - - [20/Nov/2019 01:29:46] \"\u001b[37mGET /get?msg=هل%20يجوز%20اعطاء%20دروس%20المناهج%20الدراسيه%20وليست%20دروس%20قران%20في%20المسجد%20بمقابل%20مادي؟ HTTP/1.1\u001b[0m\" 200 -\n",
      "127.0.0.1 - - [20/Nov/2019 01:31:59] \"\u001b[37mGET /get?msg=ماحكم%20استفتاح%20مجالس%20المناسبات%20كالزواج%20بالقران%20الكريم%20وهل%20ثبت%20ذلك%20عن%20الرسول%20صلى%20الله%20عليه%20وسلم؟ HTTP/1.1\u001b[0m\" 200 -\n"
     ]
    }
   ],
   "source": [
    "@app.route(\"/\")\n",
    "def home():    \n",
    "    return render_template(\"home.html\") \n",
    "@app.route(\"/get\")\n",
    "def get_bot_response():    \n",
    "    userText = request.args.get('msg')    \n",
    "    return str(arabic_chatbot.get_response(userText)) \n",
    "if __name__ == \"__main__\":\n",
    "    os.environ['FLASK_ENV']='development'\n",
    "    app.run(debug=True, use_reloader=False)"
   ]
  },
  {
   "cell_type": "code",
   "execution_count": null,
   "metadata": {
    "scrolled": true
   },
   "outputs": [],
   "source": [
    "# import time\n",
    "\n",
    "# while True:\n",
    "#     try:\n",
    "#         bot_input = eng_chatbot.get_response(input())\n",
    "#         print(bot_input)\n",
    "# #         if (time.sleep(5)):\n",
    "# #             sys.exit()\n",
    "\n",
    "#     except KeyboardInterrupt:\n",
    "#         sys.exit()"
   ]
  },
  {
   "cell_type": "code",
   "execution_count": null,
   "metadata": {},
   "outputs": [],
   "source": [
    "# print(python_version())"
   ]
  },
  {
   "cell_type": "code",
   "execution_count": null,
   "metadata": {},
   "outputs": [],
   "source": [
    "# !pip install chatterbot-corpus"
   ]
  }
 ],
 "metadata": {
  "kernelspec": {
   "display_name": "Python [conda env:metis] *",
   "language": "python",
   "name": "conda-env-metis-py"
  },
  "language_info": {
   "codemirror_mode": {
    "name": "ipython",
    "version": 3
   },
   "file_extension": ".py",
   "mimetype": "text/x-python",
   "name": "python",
   "nbconvert_exporter": "python",
   "pygments_lexer": "ipython3",
   "version": "3.7.4"
  }
 },
 "nbformat": 4,
 "nbformat_minor": 2
}
