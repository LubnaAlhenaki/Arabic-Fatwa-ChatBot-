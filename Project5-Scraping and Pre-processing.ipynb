{
 "cells": [
  {
   "cell_type": "code",
   "execution_count": 1,
   "metadata": {},
   "outputs": [
    {
     "name": "stderr",
     "output_type": "stream",
     "text": [
      "/Users/Mony/anaconda3/envs/metis/lib/python3.7/site-packages/ipykernel_launcher.py:7: DeprecationWarning: Using or importing the ABCs from 'collections' instead of from 'collections.abc' is deprecated, and in 3.8 it will stop working\n",
      "  import sys\n"
     ]
    }
   ],
   "source": [
    "import requests\n",
    "from bs4 import BeautifulSoup\n",
    "import re\n",
    "from fake_useragent import UserAgent\n",
    "import pandas as pd\n",
    "import pickle\n",
    "from collections import Iterable\n",
    "import string\n",
    "import os\n",
    "import pyarabic.araby as arabic\n",
    "import pyarabic.araby_const\n",
    "from nltk.corpus import stopwords\n",
    "pd.set_option('display.max_colwidth',100000000000)\n",
    "from nltk.tokenize import word_tokenize #pre-processing (toknization)"
   ]
  },
  {
   "cell_type": "code",
   "execution_count": null,
   "metadata": {},
   "outputs": [],
   "source": [
    "\n",
    "nltk.download('stopwords')"
   ]
  },
  {
   "cell_type": "code",
   "execution_count": null,
   "metadata": {},
   "outputs": [],
   "source": [
    "stopwords.fileids()"
   ]
  },
  {
   "cell_type": "markdown",
   "metadata": {},
   "source": [
    "## 1. Scraping Arabic Text"
   ]
  },
  {
   "cell_type": "markdown",
   "metadata": {},
   "source": [
    "## Get All Questions Links Per Category"
   ]
  },
  {
   "cell_type": "code",
   "execution_count": null,
   "metadata": {},
   "outputs": [],
   "source": [
    "all_pages=[]\n",
    "all_url=[\"https://www.islamweb.net/ar/fatawa?pageno=%order=\"%(page_number) for page_number in range(1,26)]\n",
    "cat1=[\"https://www.islamweb.net/ar/fatawa/10/العقيدة\"]\n",
    "cat2=[\"https://www.islamweb.net/ar/fatawa/12/التوحيد?pageno=%order=\"%(page_number) for page_number in range(1,3)]\n",
    "cat3=['https://www.islamweb.net/ar/fatawa/14/أهل-السنة-والجماعة?pageno=%order='%(page_number) for page_number in range(1,8)]\n",
    "cat4=['https://www.islamweb.net/ar/fatawa/18/علم-الكلام']\n",
    "cat5=['https://www.islamweb.net/ar/fatawa/354/أسماء-القرآن-وخصائصه?pageno=%order='%(page_number) for page_number in range(1,7)]\n",
    "cat6=['https://www.islamweb.net/ar/fatawa/356/فضل-وآداب-تلاوة-القرآن-وتعلمه?pageno=%order='%(page_number) for page_number in range(1,89)]\n",
    "cat7=['https://www.islamweb.net/ar/fatawa/366/أول-وآخر-ما-نزل-من-القرآن?pageno=%order='%(page_number) for page_number in range(1,3)]\n",
    "cat8=['https://www.islamweb.net/ar/fatawa/376/تقسيم-المصحف-وتطوير-خطه?pageno=%order='%(page_number) for page_number in range(1,6)]\n",
    "cat9=['https://www.islamweb.net/ar/fatawa/380/القراءات-وأقسامها-وفوائدها?pageno=%order='%(page_number) for page_number in range(1,6)]\n",
    "cat10=['https://www.islamweb.net/ar/fatawa/386/التجويد-علماً-وتطبيقاً?pageno=%order='%(page_number) for page_number in range(1,8)]\n",
    "cat11=['https://www.islamweb.net/ar/fatawa/2750/بدع-القراءة?pageno=%order='%(page_number) for page_number in range(1,7)]\n",
    "cat12=['https://www.islamweb.net/ar/fatawa/418/إعجاز-القرآن-ببيانه?pageno=%order='%(page_number) for page_number in range(1,4)]\n",
    "\n",
    "final_links=all_url+cat1+cat2+cat3+cat4+cat5+cat6+cat7+cat8+cat9+cat10+cat11+cat12\n",
    "pages=[]\n",
    "fail_url=[]\n",
    "def all_links (url):\n",
    "    try:\n",
    "        response = requests.get(url)\n",
    "        response.encoding = \"utf-8\"\n",
    "        page = response.text     \n",
    "        soup = BeautifulSoup(page, \"lxml\")\n",
    "        lis = soup.find_all(class_='oneitems')[0].find_all('li')\n",
    "        for li in lis:\n",
    "            pages.append('https://www.islamweb.net'+li.find('a',href=True).get('href'))\n",
    "        return pages\n",
    "    except:\n",
    "        fail_url.append(url)\n",
    "\n",
    "\n",
    "for one_url in final_links:\n",
    "    all_pages.append(all_links(one_url))\n",
    "\n"
   ]
  },
  {
   "cell_type": "code",
   "execution_count": null,
   "metadata": {},
   "outputs": [],
   "source": [
    "len(all_pages)"
   ]
  },
  {
   "cell_type": "code",
   "execution_count": null,
   "metadata": {},
   "outputs": [],
   "source": [
    "def flatten(lis):\n",
    "     for item in lis:\n",
    "         if isinstance(item, Iterable) and not isinstance(item, str):\n",
    "             for x in flatten(item):\n",
    "                 yield x\n",
    "         else:        \n",
    "             yield item"
   ]
  },
  {
   "cell_type": "code",
   "execution_count": null,
   "metadata": {},
   "outputs": [],
   "source": [
    "res=list(flatten(all_pages))"
   ]
  },
  {
   "cell_type": "code",
   "execution_count": null,
   "metadata": {},
   "outputs": [],
   "source": [
    "len(res)"
   ]
  },
  {
   "cell_type": "code",
   "execution_count": null,
   "metadata": {},
   "outputs": [],
   "source": [
    "filename = 'res'\n",
    "outfile = open(filename,'wb')\n",
    "pickle.dump(res,outfile)\n",
    "outfile.close()"
   ]
  },
  {
   "cell_type": "code",
   "execution_count": null,
   "metadata": {},
   "outputs": [],
   "source": [
    "infile = open(filename,'rb')\n",
    "res_test = pickle.load(infile)\n",
    "infile.close()"
   ]
  },
  {
   "cell_type": "code",
   "execution_count": null,
   "metadata": {},
   "outputs": [],
   "source": [
    "len(res_test)"
   ]
  },
  {
   "cell_type": "markdown",
   "metadata": {},
   "source": [
    "## Collecting All the Question and Answer Per Category\n"
   ]
  },
  {
   "cell_type": "code",
   "execution_count": null,
   "metadata": {},
   "outputs": [],
   "source": [
    "question=[]\n",
    "answer=[]\n",
    "faild_url=[]\n",
    "def QandA (QandAs_url):\n",
    "    ua = UserAgent()\n",
    "    headers = {'User-Agent': ua.random}\n",
    "    QandA_url=QandAs_url\n",
    "    response = requests.get(QandA_url,headers)\n",
    "    response.encoding = \"utf-8\"\n",
    "    page = response.text     \n",
    "    soup = BeautifulSoup(page, \"lxml\")\n",
    "    \n",
    "    try:\n",
    "        question.append(soup.find_all(class_='mainitem')[1].text.replace('السؤال','').strip())\n",
    "\n",
    "        a = (soup.find_all(class_='mainitem')[2].text)\n",
    "        str_list =  a.replace('\\t','').replace('\\r','').replace('الإجابــة','').split('\\n')\n",
    "        answer.append(''.join(list(str_list)[1:]))\n",
    "    except:\n",
    "        faild_url.append(QandAs_url)\n",
    "    \n",
    "total = len(res)         \n",
    "for i,individual_url in enumerate(res):\n",
    "    #print(i)\n",
    "    QandA(individual_url)\n",
    "    print('Done ,,, link : '+individual_url+' : link number '+str(i)+' out of '+str(total)+' -------------------------------------------------------',end='\\r')"
   ]
  },
  {
   "cell_type": "code",
   "execution_count": null,
   "metadata": {},
   "outputs": [],
   "source": [
    "#df_QandA=pd.DataFrame({'Question':question,'Answer':answer })"
   ]
  },
  {
   "cell_type": "code",
   "execution_count": null,
   "metadata": {},
   "outputs": [],
   "source": [
    "# PKL__QandA = 'df_QandA'\n",
    "# outfile = open(PKL__QandA,'wb')\n",
    "# pickle.dump(df_QandA,outfile)\n",
    "# outfile.close()"
   ]
  },
  {
   "cell_type": "code",
   "execution_count": null,
   "metadata": {},
   "outputs": [],
   "source": [
    "# infile = open(PKL__QandA,'rb')\n",
    "# test__QandA = pickle.load(infile)\n",
    "# infile.close()"
   ]
  },
  {
   "cell_type": "markdown",
   "metadata": {},
   "source": [
    "## Loading Data From PKL"
   ]
  },
  {
   "cell_type": "code",
   "execution_count": null,
   "metadata": {},
   "outputs": [],
   "source": [
    "infile = open('df_QandA_all_url1','rb')\n",
    "df_QandA_all_url1 = pickle.load(infile)\n",
    "infile.close()"
   ]
  },
  {
   "cell_type": "code",
   "execution_count": null,
   "metadata": {},
   "outputs": [],
   "source": [
    "df_QandA_all_url1"
   ]
  },
  {
   "cell_type": "code",
   "execution_count": null,
   "metadata": {},
   "outputs": [],
   "source": [
    "infile = open('df_QandAall_url2+cat1','rb')\n",
    "df__QandAurl2cat1 = pickle.load(infile)\n",
    "infile.close()"
   ]
  },
  {
   "cell_type": "code",
   "execution_count": null,
   "metadata": {},
   "outputs": [],
   "source": [
    "df__QandAurl2cat1"
   ]
  },
  {
   "cell_type": "code",
   "execution_count": null,
   "metadata": {},
   "outputs": [],
   "source": [
    "infile = open('df_QandA234','rb')\n",
    "df__QandA234 = pickle.load(infile)\n",
    "infile.close()"
   ]
  },
  {
   "cell_type": "code",
   "execution_count": null,
   "metadata": {},
   "outputs": [],
   "source": [
    "df__QandA234"
   ]
  },
  {
   "cell_type": "code",
   "execution_count": null,
   "metadata": {},
   "outputs": [],
   "source": [
    "!ls"
   ]
  },
  {
   "cell_type": "code",
   "execution_count": null,
   "metadata": {},
   "outputs": [],
   "source": [
    "infile = open('df_QandA_cat56','rb')\n",
    "df_QandA_cat56 = pickle.load(infile)\n",
    "infile.close()"
   ]
  },
  {
   "cell_type": "code",
   "execution_count": null,
   "metadata": {},
   "outputs": [],
   "source": [
    "\n",
    "pd.Series(df_QandA_cat56.loc[df_QandA_cat56.Question==repeats[1]].index).diff()"
   ]
  },
  {
   "cell_type": "code",
   "execution_count": null,
   "metadata": {},
   "outputs": [],
   "source": []
  },
  {
   "cell_type": "code",
   "execution_count": null,
   "metadata": {},
   "outputs": [],
   "source": [
    "infile = open('df_QandA_cat6_2','rb')\n",
    "df_QandA_cat6_2 = pickle.load(infile)\n",
    "infile.close()"
   ]
  },
  {
   "cell_type": "code",
   "execution_count": null,
   "metadata": {},
   "outputs": [],
   "source": [
    "infile = open('df_QandA_cat6_3','rb')\n",
    "df_QandA_cat6_3 = pickle.load(infile)\n",
    "infile.close()"
   ]
  },
  {
   "cell_type": "code",
   "execution_count": null,
   "metadata": {},
   "outputs": [],
   "source": [
    "infile = open('df_QandA_cat6_4','rb')\n",
    "df_QandA_cat6_4 = pickle.load(infile)\n",
    "infile.close()"
   ]
  },
  {
   "cell_type": "code",
   "execution_count": null,
   "metadata": {},
   "outputs": [],
   "source": [
    "infile = open('df_QandA7_8','rb')\n",
    "df__QandA7_8 = pickle.load(infile)\n",
    "infile.close()"
   ]
  },
  {
   "cell_type": "code",
   "execution_count": null,
   "metadata": {},
   "outputs": [],
   "source": [
    "infile = open('df_QandA9_10','rb')\n",
    "df_QandA9_10 = pickle.load(infile)\n",
    "infile.close()"
   ]
  },
  {
   "cell_type": "code",
   "execution_count": null,
   "metadata": {},
   "outputs": [],
   "source": [
    "infile = open('df_QandA11_12','rb')\n",
    "df__QandA11_12 = pickle.load(infile)\n",
    "infile.close()"
   ]
  },
  {
   "cell_type": "code",
   "execution_count": null,
   "metadata": {},
   "outputs": [],
   "source": [
    "Arabic_Corpus=pd.concat([df_QandA_all_url1, df__QandAurl2cat1 ,df__QandA234,df_QandA_cat56,df_QandA_cat6_2,df_QandA_cat6_3,df_QandA_cat6_4,df__QandA7_8,df_QandA9_10,df__QandA11_12])"
   ]
  },
  {
   "cell_type": "code",
   "execution_count": null,
   "metadata": {},
   "outputs": [],
   "source": [
    "outfile = open('Arabic_Corpus','wb')\n",
    "pickle.dump(Arabic_Corpus,outfile)\n",
    "outfile.close()"
   ]
  },
  {
   "cell_type": "code",
   "execution_count": 2,
   "metadata": {},
   "outputs": [],
   "source": [
    "infile = open('Arabic_Corpus','rb')\n",
    "Arabic_Corpus = pickle.load(infile)\n",
    "infile.close()"
   ]
  },
  {
   "cell_type": "code",
   "execution_count": 3,
   "metadata": {
    "scrolled": false
   },
   "outputs": [],
   "source": [
    "repeats=Arabic_Corpus.Question.value_counts().index"
   ]
  },
  {
   "cell_type": "code",
   "execution_count": 4,
   "metadata": {},
   "outputs": [
    {
     "data": {
      "text/plain": [
       "'أريد تعلم أحكام التجويد، وقراءة القران، بصوت جميل'"
      ]
     },
     "execution_count": 4,
     "metadata": {},
     "output_type": "execute_result"
    }
   ],
   "source": [
    "repeats[0]"
   ]
  },
  {
   "cell_type": "markdown",
   "metadata": {},
   "source": [
    "## 2.Arabic text Pre-Processing"
   ]
  },
  {
   "cell_type": "code",
   "execution_count": 5,
   "metadata": {},
   "outputs": [
    {
     "data": {
      "text/plain": [
       "27879"
      ]
     },
     "execution_count": 5,
     "metadata": {},
     "output_type": "execute_result"
    }
   ],
   "source": [
    "len(Arabic_Corpus.Question)"
   ]
  },
  {
   "cell_type": "code",
   "execution_count": 6,
   "metadata": {},
   "outputs": [
    {
     "data": {
      "text/plain": [
       "1862"
      ]
     },
     "execution_count": 6,
     "metadata": {},
     "output_type": "execute_result"
    }
   ],
   "source": [
    "len(Arabic_Corpus.Answer.value_counts())"
   ]
  },
  {
   "cell_type": "code",
   "execution_count": 7,
   "metadata": {},
   "outputs": [],
   "source": [
    "non_duplicate=Arabic_Corpus.drop_duplicates()"
   ]
  },
  {
   "cell_type": "code",
   "execution_count": 8,
   "metadata": {},
   "outputs": [],
   "source": [
    "non_duplicate.reset_index(drop=True, inplace=True)"
   ]
  },
  {
   "cell_type": "code",
   "execution_count": 9,
   "metadata": {},
   "outputs": [
    {
     "data": {
      "text/plain": [
       "RangeIndex(start=0, stop=1862, step=1)"
      ]
     },
     "execution_count": 9,
     "metadata": {},
     "output_type": "execute_result"
    }
   ],
   "source": [
    "non_duplicate.index"
   ]
  },
  {
   "cell_type": "code",
   "execution_count": 10,
   "metadata": {},
   "outputs": [
    {
     "data": {
      "text/plain": [
       "(1862, 2)"
      ]
     },
     "execution_count": 10,
     "metadata": {},
     "output_type": "execute_result"
    }
   ],
   "source": [
    "non_duplicate.shape"
   ]
  },
  {
   "cell_type": "code",
   "execution_count": 93,
   "metadata": {},
   "outputs": [
    {
     "data": {
      "text/plain": [
       "Question    في يوم ما دخلت محلا لبيع الذهب، فسمعت القرآن يتلى عبر مكبرات الصوت بصوت منخفض جدا، بحيث لو صمت جميع من في المحل بالكاد تسمعه، وإذا تكلموا فإنك لا تسمع شيئا، أنكرت ذلك الفعل بقلبي، وفكرت بالانصراف من المحل والذهاب إلى محل آخر، ثم قررت أن أنتهي من حاجتي وأخرج مع إحساسي بأنه عليّ إثم في عدم إنكار المنكر باللسان مع الاستطاعة، وذلك ببيانه للبائع ونصحه أو الخروج من المحل، تكلمت مع البائع عن ما كنت أريده بصوت منخفض، ثم فكرت في أن أبين له خصوصا، وأنه لم يعد في المحل غيري، ولكن صوت التلاوة انتهى، وبدأت أسمع صوت برامج أو أناشيد وربما انقطع الصوت تماما. خرجت من المحل، ووقع في نفسي أني شاركته في المنكر، وذلك من خلال حديثي معه وصوتنا بالتأكيد مرتفع بالنسبة لصوت التلاوة، وتذكرت قول حنبل بالنسبة لرفع الصوت بالقرآن في الأسواق.\n",
       "Answer                                                                                                                                                                                                                                    الحمد لله والصلاة والسلام على رسول الله وعلى آله وصحبه، وبعد:فتشغيل القرآن حيث لا يستمع إليه مما لا ينبغي، وهو مكروه كما نص على ذلك فقهاء الحنابلة، ولا يصل إلى حد التحريم، وإن كان ابن عقيل يرى التحريم حيث أشعر ذلك بامتهان القرآن، ولتنظر الفتوى رقم: 146263 أما أنت فلم تشارك في الإثم إن كان  ثمت إثم، فقد أنكرت ذلك بقلبك، ونويت النصيحة بلسانك، لكن كان ينبغي لك أن تبين لهذا الرجل بلين ورفق أن الأدب مع القرآن يقتضي ألا يتلى إلا بحيث يستمع إليه، وأن هذا العمل مما يشعر بالإعراض عن القرآن .والله أعلم.\n",
       "Name: 950, dtype: object"
      ]
     },
     "execution_count": 93,
     "metadata": {},
     "output_type": "execute_result"
    }
   ],
   "source": [
    "non_duplicate.loc[950]"
   ]
  },
  {
   "cell_type": "markdown",
   "metadata": {},
   "source": [
    "### 2.1 Remove the Punctuations"
   ]
  },
  {
   "cell_type": "code",
   "execution_count": 11,
   "metadata": {},
   "outputs": [],
   "source": [
    "arabic_punctuations = '''\\t\\r\\n`÷×؛<>_()*&^%][ـ،/:\"؟.,'{}~¦+|!”…“–ـ'''\n",
    "english_punctuations = string.punctuation\n",
    "punctuations_list = arabic_punctuations + english_punctuations"
   ]
  },
  {
   "cell_type": "code",
   "execution_count": 12,
   "metadata": {},
   "outputs": [],
   "source": [
    "def remove_punctuations(text):\n",
    "    translator = str.maketrans('', '', punctuations_list)\n",
    "    return text.translate(translator)"
   ]
  },
  {
   "cell_type": "markdown",
   "metadata": {},
   "source": [
    "### 2.2 Remove Arabic Diacritics"
   ]
  },
  {
   "cell_type": "code",
   "execution_count": 13,
   "metadata": {},
   "outputs": [],
   "source": [
    "def remove_diacritics(text):\n",
    "    return arabic.strip_harakat(text)"
   ]
  },
  {
   "cell_type": "markdown",
   "metadata": {},
   "source": [
    "### 2.3 Normalize Text "
   ]
  },
  {
   "cell_type": "code",
   "execution_count": 14,
   "metadata": {},
   "outputs": [],
   "source": [
    "def normalize_arabic(text):\n",
    "    text = re.sub(\"[إأآا]\", \"ا\", text)\n",
    "    text = re.sub(\"ى\", \"ي\", text)\n",
    "    text = re.sub(\"ؤ\", \"ء\", text)\n",
    "    text = re.sub(\"ئ\", \"ء\", text)\n",
    "    text = re.sub(\"ة\", \"ه\", text)\n",
    "    text = re.sub(\"گ\", \"ك\", text)\n",
    "    return text"
   ]
  },
  {
   "cell_type": "markdown",
   "metadata": {},
   "source": [
    "### 2.4 Remove Stopwords "
   ]
  },
  {
   "cell_type": "code",
   "execution_count": 15,
   "metadata": {},
   "outputs": [],
   "source": [
    "arabic_stopwords=stopwords.words('arabic')\n",
    "def remove_stopwords(text):\n",
    "    filtered_words = [word for word in text if word not in arabic_stopwords]\n",
    "    return filtered_words "
   ]
  },
  {
   "cell_type": "markdown",
   "metadata": {},
   "source": [
    "### 2.3 Tokenize Text "
   ]
  },
  {
   "cell_type": "code",
   "execution_count": 16,
   "metadata": {},
   "outputs": [],
   "source": [
    "def toknize_arabic(text):\n",
    "    return word_tokenize(text)"
   ]
  },
  {
   "cell_type": "code",
   "execution_count": 17,
   "metadata": {},
   "outputs": [],
   "source": [
    "clean_text=pd.DataFrame(columns={'question','answer'})"
   ]
  },
  {
   "cell_type": "code",
   "execution_count": 18,
   "metadata": {},
   "outputs": [],
   "source": [
    "clean_text.question=non_duplicate.Question.apply(lambda x: remove_punctuations(x))"
   ]
  },
  {
   "cell_type": "code",
   "execution_count": 19,
   "metadata": {},
   "outputs": [],
   "source": [
    "clean_text.answer=non_duplicate.Answer.apply( lambda x :remove_punctuations(x))"
   ]
  },
  {
   "cell_type": "code",
   "execution_count": 20,
   "metadata": {},
   "outputs": [],
   "source": [
    "clean_text.question=clean_text.question.apply(lambda x: remove_diacritics(x))"
   ]
  },
  {
   "cell_type": "code",
   "execution_count": 21,
   "metadata": {},
   "outputs": [],
   "source": [
    "clean_text.answer=clean_text.answer.apply( lambda x :remove_diacritics(x))"
   ]
  },
  {
   "cell_type": "code",
   "execution_count": 22,
   "metadata": {},
   "outputs": [],
   "source": [
    "clean_text.question=clean_text.question.apply(lambda x: normalize_arabic(x))"
   ]
  },
  {
   "cell_type": "code",
   "execution_count": 23,
   "metadata": {},
   "outputs": [],
   "source": [
    "clean_text.answer=clean_text.answer.apply( lambda x :normalize_arabic(x))"
   ]
  },
  {
   "cell_type": "code",
   "execution_count": 24,
   "metadata": {},
   "outputs": [],
   "source": [
    "clean_text.question=clean_text.question.apply(lambda x: toknize_arabic(x))"
   ]
  },
  {
   "cell_type": "code",
   "execution_count": 25,
   "metadata": {},
   "outputs": [],
   "source": [
    "clean_text.answer=clean_text.answer.apply( lambda x :toknize_arabic(x))"
   ]
  },
  {
   "cell_type": "code",
   "execution_count": 26,
   "metadata": {},
   "outputs": [],
   "source": [
    "clean_text.question=clean_text.question.apply(lambda x: remove_stopwords(x))"
   ]
  },
  {
   "cell_type": "code",
   "execution_count": 27,
   "metadata": {},
   "outputs": [],
   "source": [
    "clean_text.answer=clean_text.answer.apply( lambda x : remove_stopwords(x))"
   ]
  },
  {
   "cell_type": "code",
   "execution_count": 38,
   "metadata": {},
   "outputs": [],
   "source": [
    "clean_text=clean_text.reset_index(drop=True)"
   ]
  },
  {
   "cell_type": "code",
   "execution_count": 30,
   "metadata": {},
   "outputs": [],
   "source": [
    "#format_question=clean_text.question.apply(lambda x: '- - '+x)"
   ]
  },
  {
   "cell_type": "code",
   "execution_count": 31,
   "metadata": {},
   "outputs": [],
   "source": [
    "#format_answer=clean_text.answer.apply(lambda x: '  - '+x)"
   ]
  },
  {
   "cell_type": "code",
   "execution_count": 32,
   "metadata": {},
   "outputs": [],
   "source": [
    "#format_file=pd.DataFrame({'question':format_question, 'answer':format_answer})"
   ]
  },
  {
   "cell_type": "code",
   "execution_count": 42,
   "metadata": {},
   "outputs": [],
   "source": [
    "clean_text.drop(columns={'index'},  inplace= True)"
   ]
  },
  {
   "cell_type": "code",
   "execution_count": null,
   "metadata": {},
   "outputs": [],
   "source": [
    "print(format_file.to_csv('Arabic_preprocsssing',index=False,header=False, sep='\\n'))\n"
   ]
  },
  {
   "cell_type": "code",
   "execution_count": null,
   "metadata": {},
   "outputs": [],
   "source": [
    "text='لًوبّنَيٍ'"
   ]
  },
  {
   "cell_type": "code",
   "execution_count": null,
   "metadata": {},
   "outputs": [],
   "source": [
    "arabic.strip_harakat(text)"
   ]
  },
  {
   "cell_type": "code",
   "execution_count": null,
   "metadata": {},
   "outputs": [],
   "source": []
  }
 ],
 "metadata": {
  "kernelspec": {
   "display_name": "Python 3",
   "language": "python",
   "name": "python3"
  },
  "language_info": {
   "codemirror_mode": {
    "name": "ipython",
    "version": 3
   },
   "file_extension": ".py",
   "mimetype": "text/x-python",
   "name": "python",
   "nbconvert_exporter": "python",
   "pygments_lexer": "ipython3",
   "version": "3.7.4"
  }
 },
 "nbformat": 4,
 "nbformat_minor": 2
}
